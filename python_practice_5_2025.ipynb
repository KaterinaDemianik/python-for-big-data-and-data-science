{
  "nbformat": 4,
  "nbformat_minor": 0,
  "metadata": {
    "colab": {
      "provenance": []
    },
    "kernelspec": {
      "name": "python3",
      "display_name": "Python 3"
    },
    "language_info": {
      "name": "python"
    }
  },
  "cells": [
    {
      "cell_type": "markdown",
      "source": [
        "# I. OOP"
      ],
      "metadata": {
        "id": "5qV_sehzFCTp"
      }
    },
    {
      "cell_type": "markdown",
      "source": [
        "1. (6б). Створіть клас Building, додайте три атрибути, один з яких має значення за замовчуванням та два методи на свій розсуд."
      ],
      "metadata": {
        "id": "tx_U_hOALyfg"
      }
    },
    {
      "cell_type": "code",
      "source": [
        "class Building:\n",
        "  def __init__(self, name, year_built, amount_of_floors):\n",
        "    self.name = name\n",
        "    self.year_built = year_built\n",
        "    self.amount_of_floors = amount_of_floors\n",
        "  def building_age(self, current_year):\n",
        "    return current_year - self.year_built\n",
        "  def display_info(self):\n",
        "     print(f\"Building name is: {self.name}\")\n",
        "     print(f\"Amount of floors: {self.amount_of_floors}\")\n",
        "     print(f\"Year built is {self.year_built}\")\n",
        "building_1 = Building(\"Пізанська вежа\", 1173, 8)\n",
        "building_1.display_info()\n",
        "print(f\"Building age is: {building_1.building_age(2025)} years\")\n",
        "print()\n",
        "building_2 = Building(\"Ейфелева вежа\", 1889, 3)\n",
        "building_2.display_info()\n",
        "print(f\"Building age is: {building_2.building_age(2025)} years\")"
      ],
      "metadata": {
        "id": "-Vf895KaL88N",
        "colab": {
          "base_uri": "https://localhost:8080/"
        },
        "outputId": "9a376c4b-bcc6-4ad3-979a-ff962384e08c"
      },
      "execution_count": 18,
      "outputs": [
        {
          "output_type": "stream",
          "name": "stdout",
          "text": [
            "Building name is: Пізанська вежа\n",
            "Amount of floors: 8\n",
            "Year built is 1173\n",
            "Building age is: 852 years\n",
            "\n",
            "Building name is: Ейфелева вежа\n",
            "Amount of floors: 3\n",
            "Year built is 1889\n",
            "Building age is: 136 years\n"
          ]
        }
      ]
    },
    {
      "cell_type": "markdown",
      "source": [
        "2. (2б). Створіть два обʼєкти цього класу, де один з обʼєктів створюється із дефолтним значенням атрибуту. На одному обʼєкті отримайте значення його атрибуту, а на іншому викличте один з його методів."
      ],
      "metadata": {
        "id": "X_UlOMB0L93w"
      }
    },
    {
      "cell_type": "code",
      "source": [
        "class Building:\n",
        "    def __init__(self, name, year_built=2020, amount_of_floors=5):\n",
        "        self.name = name\n",
        "        self.year_built = year_built\n",
        "        self.amount_of_floors = amount_of_floors\n",
        "    def building_age(self, current_year):\n",
        "        return current_year - self.year_built\n",
        "    def display_info(self):\n",
        "        print(f\"Building name is: {self.name}\")\n",
        "        print(f\"Amount of floors: {self.amount_of_floors}\")\n",
        "        print(f\"Year built is {self.year_built}\")\n",
        "building_1 = Building(\"My_example_building_1\")\n",
        "building_2 = Building(\"My_example_building_2\", 1990, 6)\n",
        "print(f\"Building name: {building_1.name}\")\n",
        "building_2.display_info()"
      ],
      "metadata": {
        "id": "7gBu0ESOMCpG",
        "colab": {
          "base_uri": "https://localhost:8080/"
        },
        "outputId": "b776ab76-21d7-4539-96a3-dba63842d6b4"
      },
      "execution_count": 17,
      "outputs": [
        {
          "output_type": "stream",
          "name": "stdout",
          "text": [
            "Building name: My_example_building_1\n",
            "Building name is: My_example_building_2\n",
            "Amount of floors: 6\n",
            "Year built is 1990\n"
          ]
        }
      ]
    },
    {
      "cell_type": "markdown",
      "source": [
        "3. (5б). Створіть клас, де атрибути мають різні рівні доступу. Спробуйте отримати їхні значення та опишіть результати."
      ],
      "metadata": {
        "id": "HoqSCZt1MHn5"
      }
    },
    {
      "cell_type": "code",
      "source": [
        "class Building:\n",
        "    def __init__(self, name, year_built, amount_of_floors):\n",
        "        self.name = name\n",
        "        self._year_built = year_built\n",
        "        self.__amount_of_floors = amount_of_floors\n",
        "    def get_private_attribute(self):\n",
        "        return self.__amount_of_floors\n",
        "building = Building(\"Пізанська вежа\", 1173, 8)\n",
        "print(f\"Building name: {building.name}\")\n",
        "print(f\"Year built (protected): {building._year_built}\")\n",
        "try:\n",
        "    print(f\"Amount of floors (private): {building.__amount_of_floors}\")\n",
        "except AttributeError as e:\n",
        "    print(f\"Error: {e}\")\n",
        "print(f\"Amount of floors (private through method): {building.get_private_attribute()}\")\n"
      ],
      "metadata": {
        "id": "r9b3vJxBMSPV",
        "colab": {
          "base_uri": "https://localhost:8080/"
        },
        "outputId": "0c170e2d-640e-48a5-d71b-8b6b2f2b259c"
      },
      "execution_count": 19,
      "outputs": [
        {
          "output_type": "stream",
          "name": "stdout",
          "text": [
            "Building name: Пізанська вежа\n",
            "Year built (protected): 1173\n",
            "Error: 'Building' object has no attribute '__amount_of_floors'\n",
            "Amount of floors (private through method): 8\n"
          ]
        }
      ]
    },
    {
      "cell_type": "markdown",
      "source": [
        "При доступі до публічного атрибуту пайтон надає значення атрибуту без будь-яких обмежень.\n",
        "Python дозволяє доступ до захищених атрибутів ззовні класу, але зазвичай це не рекомендується, оскільки такий атрибут призначений для використання лише всередині класу або його підкласів.\n",
        "Приватні атрибути зазвичай недоступні ззовні класу.\n",
        "Спроба отримати приватний атрибут напряму призводить до помилки\n",
        "Для приватних атрибутів, які не можна отримати безпосередньо, можна створити метод у класі для доступу до цих значень."
      ],
      "metadata": {
        "id": "zWgc3ASkL3ma"
      }
    },
    {
      "cell_type": "markdown",
      "source": [
        "4. (7б). Як ви розумієте термін self? Для чого використовується метод __init __?"
      ],
      "metadata": {
        "id": "5op2m2vgMSkZ"
      }
    },
    {
      "cell_type": "markdown",
      "source": [
        "*self — це посилання на об'єкт, який створюється або з яким працює клас.\n",
        "Через self ми отримуємо доступ до атрибутів та методів конкретного об'єкта.\n",
        "Метод __init_ — це конструктор класу.\n",
        "Основна його мета— ініціалізувати (задати початкові значення) атрибутів об'єкта.коли ми створюємо об'єкт,цей меод налаштовує цей об'єкт з потрібними параметрами.\n"
      ],
      "metadata": {
        "id": "DyiPqNRvMasx"
      }
    },
    {
      "cell_type": "markdown",
      "source": [
        "5. (9б). Створіть клас 3D-фігура без атрибутів, з методом get_volume для отримання об'єму фігури, що повертає 0 та __add __, який приймає self та other в якості аргументів, а повертає суму об'ємів 3d-фігур self та other."
      ],
      "metadata": {
        "id": "-6X8EGfjMd2y"
      }
    },
    {
      "cell_type": "code",
      "source": [
        "class Shape3D:\n",
        "    def __init__(self):\n",
        "        pass\n",
        "    def get_volume(self):\n",
        "        return 0\n",
        "    def __add__(self, other):\n",
        "        if isinstance(other, Shape3D):\n",
        "            return self.get_volume() + other.get_volume()\n",
        "        else:\n",
        "            raise TypeError(\"Cannot add objects of different types\")\n",
        "shape1 = Shape3D()\n",
        "shape2 = Shape3D()\n",
        "total_volume = shape1 + shape2\n",
        "print(f\"Total volume: {total_volume}\")"
      ],
      "metadata": {
        "id": "4rvO_wYUMaEr",
        "colab": {
          "base_uri": "https://localhost:8080/"
        },
        "outputId": "bc5a7ffa-de6c-455f-9074-ee32bf777746"
      },
      "execution_count": 24,
      "outputs": [
        {
          "output_type": "stream",
          "name": "stdout",
          "text": [
            "Total volume: 0\n"
          ]
        }
      ]
    },
    {
      "cell_type": "markdown",
      "source": [
        "6. (11б). Створіть 2 дочірніх класи від 3d-фігура: Циліндр та Куб, які мають атрибути, необхідні для розрахунку об'єму. Визначте метод get_volume в кожному з них так, щоби вони розраховували об'єм у залежності від формули для кожного типу фігури. Створіть обʼєкт класу Циліндр та обʼєкт класу Куб. Виконайте операцію суми за допомогою оператора + між ними, аби знайти сумарний об'єм."
      ],
      "metadata": {
        "id": "SFcKnnv5Mo_z"
      }
    },
    {
      "cell_type": "code",
      "source": [
        "import math\n",
        "class Shape3D:\n",
        "    def __init__(self):\n",
        "        pass\n",
        "    def get_volume(self):\n",
        "        return 0\n",
        "    def __add__(self, other):\n",
        "        if isinstance(other, Shape3D):\n",
        "            return self.get_volume() + other.get_volume()\n",
        "        else:\n",
        "            raise TypeError(\"Cannot add objects of different types\")\n",
        "class Cylinder(Shape3D):\n",
        "    def __init__(self, radius, height):\n",
        "        self.radius = radius\n",
        "        self.height = height\n",
        "    def get_volume(self):\n",
        "        return math.pi * (self.radius ** 2) * self.height\n",
        "class Cube(Shape3D):\n",
        "    def __init__(self, side_length):\n",
        "        self.side_length = side_length\n",
        "    def get_volume(self):\n",
        "        return self.side_length ** 3\n",
        "cylinder = Cylinder(3, 5)\n",
        "cube = Cube(4)\n",
        "total_volume = cylinder + cube\n",
        "print(f\"Total volume: {total_volume}\")\n"
      ],
      "metadata": {
        "id": "H3GVNr69Muf3",
        "colab": {
          "base_uri": "https://localhost:8080/"
        },
        "outputId": "541303d7-2b67-4b2e-d3ff-da0b6698a33a"
      },
      "execution_count": 25,
      "outputs": [
        {
          "output_type": "stream",
          "name": "stdout",
          "text": [
            "Total volume: 205.3716694115407\n"
          ]
        }
      ]
    },
    {
      "cell_type": "markdown",
      "source": [
        "7. (3б). Продемонструйте різницю між isinstance та issubclass."
      ],
      "metadata": {
        "id": "HCvR206YMvLK"
      }
    },
    {
      "cell_type": "code",
      "source": [
        "class Animal:\n",
        "    pass\n",
        "class Dog(Animal):\n",
        "    pass\n",
        "dog = Dog()\n",
        "print(isinstance(dog, Dog))\n",
        "print(isinstance(dog, Animal))\n",
        "print(isinstance(dog, object))\n",
        "print(issubclass(Dog, Animal))\n",
        "print(issubclass(Animal, Dog))\n"
      ],
      "metadata": {
        "id": "L_V1bBvDM0GN",
        "colab": {
          "base_uri": "https://localhost:8080/"
        },
        "outputId": "b453eaa7-77f7-49c5-e002-6286c1fa1184"
      },
      "execution_count": 27,
      "outputs": [
        {
          "output_type": "stream",
          "name": "stdout",
          "text": [
            "True\n",
            "True\n",
            "True\n",
            "True\n",
            "False\n"
          ]
        }
      ]
    },
    {
      "cell_type": "markdown",
      "source": [
        "8. (13б). Створіть клас EWallet з приватними атрибутами balance та id. Реалізуйте методи поповнення та зняття коштів, забезпечивши належну інкапсуляцію. Підказка: використовуйте декоратори property та setter."
      ],
      "metadata": {
        "id": "jjsaBZ-iM0Qq"
      }
    },
    {
      "cell_type": "code",
      "source": [
        "class EWallet:\n",
        "    def __init__(self, wallet_id, balance=0):\n",
        "        self.__id = wallet_id\n",
        "        self.__balance = balance\n",
        "    @property\n",
        "    def balance(self):\n",
        "        return self.__balance\n",
        "    @balance.setter\n",
        "    def balance(self, value):\n",
        "        if value < 0:\n",
        "            raise ValueError(\"Balance cannot be negative\")\n",
        "        self.__balance = value\n",
        "    @property\n",
        "    def id(self):\n",
        "        return self.__id\n",
        "    def deposit(self, amount):\n",
        "        if amount <= 0:\n",
        "            raise ValueError(\"Deposit must be positive.\")\n",
        "        self.balance += amount\n",
        "    def withdraw(self, amount):\n",
        "        if amount <= 0:\n",
        "            raise ValueError(\"Withdrawal must be positive.\")\n",
        "        if amount > self.__balance:\n",
        "            raise ValueError(\"Insufficient funds.\")\n",
        "        self.balance -= amount\n",
        "wallet = EWallet(wallet_id=12345)\n",
        "wallet.deposit(100)\n",
        "print(f\"Balance after deposit: {wallet.balance}\")\n",
        "wallet.withdraw(50)\n",
        "print(f\"Balance after withdrawal: {wallet.balance}\")\n",
        "try:\n",
        "    wallet.withdraw(100)\n",
        "except ValueError as e:\n",
        "    print(e)\n",
        "try:\n",
        "    wallet.balance = -10\n",
        "except ValueError as e:\n",
        "    print(e)\n"
      ],
      "metadata": {
        "id": "xCvZ7lh8M7YA",
        "colab": {
          "base_uri": "https://localhost:8080/"
        },
        "outputId": "c3871252-85b8-46cc-f007-bd4d4b8904be"
      },
      "execution_count": 30,
      "outputs": [
        {
          "output_type": "stream",
          "name": "stdout",
          "text": [
            "Balance after deposit: 100\n",
            "Balance after withdrawal: 50\n",
            "Insufficient funds.\n",
            "Balance cannot be negative\n"
          ]
        }
      ]
    },
    {
      "cell_type": "markdown",
      "source": [
        "9. (11б). Створіть клас ShoppingCart, який містить список об'єктів типу Item. Реалізуйте методи для додавання айтемів, їх видалення та відображення списку айтемів."
      ],
      "metadata": {
        "id": "tIzL2SJTM8ft"
      }
    },
    {
      "cell_type": "code",
      "source": [
        "class Item:\n",
        "    def __init__(self, name, price):\n",
        "        self.name = name\n",
        "        self.price = price\n",
        "    def __repr__(self):\n",
        "        return f\"Item(name={self.name}, price={self.price})\"\n",
        "class ShoppingCart:\n",
        "    def __init__(self):\n",
        "        self.items = []\n",
        "    def add_item(self, item):\n",
        "        if isinstance(item, Item):\n",
        "            self.items.append(item)\n",
        "        else:\n",
        "            raise ValueError(\"Only items of type Item can be added.\")\n",
        "    def remove_item(self, item_name):\n",
        "        for item in self.items:\n",
        "            if item.name == item_name:\n",
        "                self.items.remove(item)\n",
        "                return f\"{item_name} has been removed from the cart.\"\n",
        "        return f\"{item_name} not found in the cart.\"\n",
        "    def display_items(self):\n",
        "        if not self.items:\n",
        "            return \"Your cart is empty.\"\n",
        "        return \"\\n\".join([f\"{item.name}: ${item.price}\" for item in self.items])\n",
        "    def total_price(self):\n",
        "        return sum(item.price for item in self.items)\n",
        "item1 = Item(\"Laptop\", 1200)\n",
        "item2 = Item(\"Mouse\", 25)\n",
        "item3 = Item(\"Keyboard\", 75)\n",
        "cart = ShoppingCart()\n",
        "cart.add_item(item1)\n",
        "cart.add_item(item2)\n",
        "cart.add_item(item3)\n",
        "print(\"Items in the cart:\")\n",
        "print(cart.display_items())\n",
        "print(f\"Total Price: ${cart.total_price()}\")\n",
        "print(cart.remove_item(\"Mouse\"))\n",
        "print(\"Updated cart items:\")\n",
        "print(cart.display_items())\n"
      ],
      "metadata": {
        "id": "HWxfJKLtNAUZ",
        "colab": {
          "base_uri": "https://localhost:8080/"
        },
        "outputId": "7b492666-3029-4715-9ef7-052da8cba4b2"
      },
      "execution_count": 33,
      "outputs": [
        {
          "output_type": "stream",
          "name": "stdout",
          "text": [
            "Items in the cart:\n",
            "Laptop: $1200\n",
            "Mouse: $25\n",
            "Keyboard: $75\n",
            "Total Price: $1300\n",
            "Mouse has been removed from the cart.\n",
            "Updated cart items:\n",
            "Laptop: $1200\n",
            "Keyboard: $75\n"
          ]
        }
      ]
    },
    {
      "cell_type": "markdown",
      "source": [
        "10. (13б). Створіть клас Vehicle з атрибутами brand (manufacturer) та production_age. Створіть ще один клас Engine з такими атрибутами, як type (ex. petrol) та size (volume, litres). Створіть клас Car, який успадковує обидва класи Vehicle та Engine. Продемонструйте використання множинної спадковості, створивши обʼєкт класу Car та отримавши mro для цього класу."
      ],
      "metadata": {
        "id": "lmV8pAwwNIqu"
      }
    },
    {
      "cell_type": "code",
      "source": [
        "class Vehicle:\n",
        "    def __init__(self, brand, production_age):\n",
        "        self.brand = brand\n",
        "        self.production_age = production_age\n",
        "    def __repr__(self):\n",
        "        return f\"Vehicle(brand={self.brand}, production_age={self.production_age})\"\n",
        "class Engine:\n",
        "    def __init__(self, engine_type, size):\n",
        "        self.engine_type = engine_type\n",
        "        self.size = size\n",
        "    def __repr__(self):\n",
        "        return f\"Engine(type={self.engine_type}, size={self.size}L)\"\n",
        "class Car(Vehicle, Engine):\n",
        "    def __init__(self, brand, production_age, engine_type, size):\n",
        "        Vehicle.__init__(self, brand, production_age)\n",
        "        Engine.__init__(self, engine_type, size)\n",
        "    def __repr__(self):\n",
        "        return f\"Car(brand={self.brand}, production_age={self.production_age}, engine_type={self.engine_type}, engine_size={self.size}L)\"\n",
        "my_car = Car(brand=\"Toyota\", production_age=5, engine_type=\"Petrol\", size=1.8)\n",
        "print(my_car)\n",
        "print(\"\\nMRO for Car:\")\n",
        "print(Car.mro())\n"
      ],
      "metadata": {
        "id": "R49grKlWNPeN",
        "colab": {
          "base_uri": "https://localhost:8080/"
        },
        "outputId": "67ed1cf2-9480-4e34-a046-13c0cb0b5eb5"
      },
      "execution_count": 34,
      "outputs": [
        {
          "output_type": "stream",
          "name": "stdout",
          "text": [
            "Car(brand=Toyota, production_age=5, engine_type=Petrol, engine_size=1.8L)\n",
            "\n",
            "MRO for Car:\n",
            "[<class '__main__.Car'>, <class '__main__.Vehicle'>, <class '__main__.Engine'>, <class 'object'>]\n"
          ]
        }
      ]
    },
    {
      "cell_type": "markdown",
      "source": [
        "# II. Iterator"
      ],
      "metadata": {
        "id": "dIJyUiNBFG8G"
      }
    },
    {
      "cell_type": "markdown",
      "source": [
        "11. (4б). Визначте рядок(str) з 4ма різними за значенням символами. Створіть ітератор на основі цього рядка. Викличте 5 разів функцію next на ітераторі, 4ри перших з них огорніть у ф-цію print()."
      ],
      "metadata": {
        "id": "13vsm0NyKIzL"
      }
    },
    {
      "cell_type": "code",
      "source": [
        "my_string = \"abcd\"\n",
        "iterator = iter(my_string)\n",
        "for _ in range(4):\n",
        "    print(next(iterator))\n",
        "try:\n",
        "    next_value = next(iterator)\n",
        "    print(next_value)\n",
        "except StopIteration:\n",
        "    print(\"No more elements in iterator.\")"
      ],
      "metadata": {
        "id": "81ntabAkKuz-",
        "colab": {
          "base_uri": "https://localhost:8080/"
        },
        "outputId": "3ef7c08b-e222-478d-d1de-aefdb5e4579b"
      },
      "execution_count": 38,
      "outputs": [
        {
          "output_type": "stream",
          "name": "stdout",
          "text": [
            "a\n",
            "b\n",
            "c\n",
            "d\n",
            "No more elements in iterator.\n"
          ]
        }
      ]
    },
    {
      "cell_type": "markdown",
      "source": [
        "А що якщо викликати цю ж функцію на рядку?"
      ],
      "metadata": {
        "id": "aekWHGXOLRsO"
      }
    },
    {
      "cell_type": "code",
      "source": [
        "my_string = \"abcd\"\n",
        "iterator = iter(my_string)\n",
        "print(next(iterator))\n",
        "print(next(iterator))\n",
        "print(next(iterator))\n",
        "print(next(iterator))\n",
        "try:\n",
        "    print(next(iterator))\n",
        "except StopIteration:\n",
        "    print(\"No more elements in iterator.\")\n"
      ],
      "metadata": {
        "id": "mxATGsErLV1i",
        "colab": {
          "base_uri": "https://localhost:8080/"
        },
        "outputId": "9072b392-4c0b-4d91-f7c9-101131136d0e"
      },
      "execution_count": 39,
      "outputs": [
        {
          "output_type": "stream",
          "name": "stdout",
          "text": [
            "a\n",
            "b\n",
            "c\n",
            "d\n",
            "No more elements in iterator.\n"
          ]
        }
      ]
    },
    {
      "cell_type": "markdown",
      "source": [
        "Якщо викликати функцію на рядку, то результат буде аналогічний тому, що ми робили з ітератором для рядка, оскільки рядки в Python є ітерабельними об'єктами. Кожен виклик next() на рядку буде повертати наступний символ рядка."
      ],
      "metadata": {
        "id": "EbzcN7MV57Nc"
      }
    },
    {
      "cell_type": "markdown",
      "source": [
        " 12. (5б). Опишіть своїми словами в одному реченні, як ви розумієте різницю між ітерабельними обʼєктами та ітераторами (можна на прикладі)."
      ],
      "metadata": {
        "id": "XwtMEopwJ4pH"
      }
    },
    {
      "cell_type": "markdown",
      "source": [
        "*Ітерабельні об'єкти — це об'єкти, з яких можна створювати ітератори (наприклад, списки, рядки), тоді як ітератори — це об'єкти, які зберігають поточний стан і можуть по черзі повертати елементи з ітерабельного об'єкта за допомогою функції next()\n",
        "Приклад: попередня вправа рядок \"abc\" — це ітерабельний об'єкт, з якого можна створити ітератор,а за допомогою функції next() отримувати кожен символ по черзі"
      ],
      "metadata": {
        "id": "-sHrODc3KFn8"
      }
    },
    {
      "cell_type": "markdown",
      "source": [
        "13. (11б). Створіть клас, що має визначений Iterator Protocol та при кожному виклику next повертає назву дня тижня, поки вони не вичерпаються. Зверніть увагу, що порядок має значення."
      ],
      "metadata": {
        "id": "E9qJWmNbK8Gl"
      }
    },
    {
      "cell_type": "code",
      "source": [
        "class Weekdays_Iterator:\n",
        "    def __init__(self):\n",
        "        self.days_of_week = [\"Monday\", \"Tuesday\", \"Wednesday\", \"Thursday\", \"Friday\", \"Saturday\", \"Sunday\"]\n",
        "        self.index = 0\n",
        "    def __iter__(self):\n",
        "        return self\n",
        "    def __next__(self):\n",
        "        if self.index >= len(self.days_of_week):\n",
        "            raise StopIteration\n",
        "        day = self.days_of_week[self.index]\n",
        "        self.index += 1\n",
        "        return day\n",
        "weekdays = Weekdays_Iterator()\n",
        "print(next(weekdays))\n",
        "print(next(weekdays))\n",
        "print(next(weekdays))\n",
        "print(next(weekdays))\n",
        "print(next(weekdays))\n",
        "print(next(weekdays))\n",
        "print(next(weekdays))\n",
        "try:\n",
        "    print(next(weekdays))\n",
        "except StopIteration:\n",
        "    print(\"No more days in the week.\")\n"
      ],
      "metadata": {
        "id": "cqx-g_RsLo6I",
        "colab": {
          "base_uri": "https://localhost:8080/"
        },
        "outputId": "7f75b5a1-e106-4b73-9c17-16e8e543adc9"
      },
      "execution_count": 40,
      "outputs": [
        {
          "output_type": "stream",
          "name": "stdout",
          "text": [
            "Monday\n",
            "Tuesday\n",
            "Wednesday\n",
            "Thursday\n",
            "Friday\n",
            "Saturday\n",
            "Sunday\n",
            "No more days in the week.\n"
          ]
        }
      ]
    },
    {
      "cell_type": "markdown",
      "source": [
        "# Вітаю! Ви велика(ий) молодець, що впоралась(вся). Похваліть себе та побалуйте чимось приємним. Я Вами пишаюся."
      ],
      "metadata": {
        "id": "Z3E3S_s1Fv7-"
      }
    }
  ]
}